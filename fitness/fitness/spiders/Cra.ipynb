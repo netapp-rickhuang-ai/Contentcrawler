{
 "cells": [
  {
   "cell_type": "code",
   "execution_count": 1,
   "metadata": {},
   "outputs": [],
   "source": [
    "import scrapy\n",
    "from bs4 import BeautifulSoup"
   ]
  },
  {
   "cell_type": "code",
   "execution_count": 23,
   "metadata": {},
   "outputs": [],
   "source": [
    "class FitCrawler(scrapy.Spider):\n",
    "    name = 'Fit'\n",
    "#     start_urls=['http://www.exrx.net/WeightExercises/PectoralClavicular/CBStandingInclineFly.html']\n",
    "    start_urls = ['https://exrx.net/Drugs/Testosterone']\n",
    "    # start_urls=['https://www.reddit.com/r/CustomerService/comments/zc8vth/customer_treating_me_like_a_scam_artist/']\n",
    "    def parse(self, response):\n",
    "        res = BeautifulSoup(response.body)\n",
    "        print(response.body)\n",
    "        print(res.select('img'))  # Print the output of res.select('img') to see what it returns"
   ]
  },
  {
   "cell_type": "code",
   "execution_count": 24,
   "metadata": {},
   "outputs": [
    {
     "name": "stdout",
     "output_type": "stream",
     "text": [
      "b''\n",
      "[]\n"
     ]
    }
   ],
   "source": [
    "# Create a request object for the URL specified in start_urls\n",
    "request = scrapy.Request(FitCrawler.start_urls[0])\n",
    "\n",
    "# Create an instance of the FitCrawler class\n",
    "crawler = FitCrawler()\n",
    "\n",
    "# Call the parse() method and pass the request object as an argument\n",
    "crawler.parse(request)"
   ]
  },
  {
   "cell_type": "code",
   "execution_count": 3,
   "metadata": {},
   "outputs": [],
   "source": []
  }
 ],
 "metadata": {
  "kernelspec": {
   "display_name": "Python 3 (ipykernel)",
   "language": "python",
   "name": "python3"
  },
  "language_info": {
   "codemirror_mode": {
    "name": "ipython",
    "version": 3
   },
   "file_extension": ".py",
   "mimetype": "text/x-python",
   "name": "python",
   "nbconvert_exporter": "python",
   "pygments_lexer": "ipython3",
   "version": "3.9.6"
  }
 },
 "nbformat": 4,
 "nbformat_minor": 2
}
